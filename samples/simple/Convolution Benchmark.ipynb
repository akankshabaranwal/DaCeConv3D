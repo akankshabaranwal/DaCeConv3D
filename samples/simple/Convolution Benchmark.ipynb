{
 "cells": [
  {
   "cell_type": "code",
   "execution_count": 1,
   "id": "a15b7791",
   "metadata": {},
   "outputs": [],
   "source": [
    "# Benchmark all the different variations of dace convolution\n",
    "# Benchmark it with respect to cudnn, pytorch's conv2D\n",
    "# 1DConv, 2DConv, 3DConv\n",
    "# Verification and benchmarking"
   ]
  },
  {
   "cell_type": "code",
   "execution_count": 2,
   "id": "8178f79f",
   "metadata": {},
   "outputs": [
    {
     "name": "stderr",
     "output_type": "stream",
     "text": [
      "/home/akanksha/spcl/dacelocal/venv/lib/python3.8/site-packages/tqdm/auto.py:22: TqdmWarning: IProgress not found. Please update jupyter and ipywidgets. See https://ipywidgets.readthedocs.io/en/stable/user_install.html\n",
      "  from .autonotebook import tqdm as notebook_tqdm\n"
     ]
    },
    {
     "data": {
      "text/html": [
       "<link href=\"https://fonts.googleapis.com/icon?family=Material+Icons\" rel=\"stylesheet\"><script src=\"https://spcl.github.io/dace/webclient2/dist/sdfv.js\"></script>\n",
       "<link href=\"https://spcl.github.io/dace/webclient2/sdfv.css\" rel=\"stylesheet\">\n"
      ],
      "text/plain": [
       "<IPython.core.display.HTML object>"
      ]
     },
     "metadata": {},
     "output_type": "display_data"
    }
   ],
   "source": [
    "from torch import nn\n",
    "import click\n",
    "import dace\n",
    "import numpy as np\n",
    "from pprint import pprint\n",
    "import dace.libraries.blas\n",
    "import matplotlib.pyplot as plt\n",
    "import tensorflow as tf\n"
   ]
  },
  {
   "cell_type": "code",
   "execution_count": 3,
   "id": "3183df1d",
   "metadata": {},
   "outputs": [],
   "source": [
    "def barplot(title, labels=False):\n",
    "    x = ['numpy'] + list(sorted(TIMES.keys() - {'numpy'}))\n",
    "    bars = [np.median(TIMES[key].timings) for key in x]\n",
    "    yerr = [np.std(TIMES[key].timings) for key in x]\n",
    "    color = [('#86add9' if 'dace' in key else 'salmon') for key in x]\n",
    "\n",
    "    p = plt.bar(x, bars, yerr=yerr, color=color)\n",
    "    plt.ylabel('Runtime [s]'); plt.xlabel('Implementation'); plt.title(title); \n",
    "    if labels:\n",
    "        plt.gca().bar_label(p)\n",
    "    pass"
   ]
  },
  {
   "cell_type": "code",
   "execution_count": 4,
   "id": "62b84d2b",
   "metadata": {},
   "outputs": [],
   "source": [
    "# Trying out convolution\n",
    "# m = nn.Conv2d(16, 33, (3, 5), stride=(2, 1), padding=(4, 2))\n",
    "# m = nn.Conv2d(16, 33, (3, 5), stride=(2, 1), padding=(4, 2), dilation=(3, 1))\n",
    "# input = torch.randn(20, 16, 50, 100)\n",
    "# output = m(input)"
   ]
  },
  {
   "cell_type": "code",
   "execution_count": 19,
   "id": "c157ce8c",
   "metadata": {},
   "outputs": [],
   "source": [
    "# Define symbolic sizes for arbitrary inputs\n",
    "rows = dace.symbol('rows')\n",
    "cols = dace.symbol('cols')\n",
    "indepth = dace.symbol('indepth')\n",
    "inputimages = dace.symbol('inputimages')\n",
    "outdepth = dace.symbol('outdepth')\n",
    "chunklength = dace.symbol('chunklength', dtype=dace.int64, integer=True, positive=True)\n",
    "\n",
    "w = dace.symbol('w')\n",
    "\n",
    "# Define data type to use\n",
    "dtype = dace.float64\n",
    "np_dtype = np.float64"
   ]
  },
  {
   "cell_type": "code",
   "execution_count": 58,
   "id": "eeea2064",
   "metadata": {},
   "outputs": [],
   "source": [
    "# Different convolution versions\n",
    "@dace.program(auto_optimize=True, device=dace.DeviceType.GPU)\n",
    "#@dace.program(device=dace.DeviceType.GPU)\n",
    "def convolutionallparallel(Input: dtype[inputimages, rows, cols, indepth], \n",
    "                           kernel: dtype[ w, w, indepth, outdepth], \n",
    "                           Output: dtype[inputimages, rows, cols, outdepth]):\n",
    "    tmp = np.zeros([inputimages, rows, cols, indepth*w*w, outdepth], dtype = Input.dtype)\n",
    "    for i,j,d,od,m,n in dace.map[w/2:rows-w/2, w/2:cols-w/2,0:indepth,0:outdepth, 0:w, 0:w]:\n",
    "        with dace.tasklet:\n",
    "            in_A << Input[0, i - w/2 + m, j - w/2 + n, d]\n",
    "            in_B << kernel[w-1-m, w-1-n, d, od]\n",
    "            out >> tmp[0, i, j, (d*(w*w)) + (m*w)+n, od]\n",
    "\n",
    "            out = in_A * in_B\n",
    "\n",
    "    dace.reduce(lambda a,b:a+b, tmp, Output, axis=3, identity=0)\n",
    "\n",
    "\n",
    "# Simple convolution\n",
    "@dace.program(auto_optimize=True, device=dace.DeviceType.GPU)\n",
    "#@dace.program(device=dace.DeviceType.GPU)\n",
    "def convolutionsimple(Input: dtype[inputimages, rows, cols, indepth], \n",
    "                      kernel: dtype[ w, w, indepth, outdepth], \n",
    "                      Output: dtype[inputimages, rows, cols, outdepth]):\n",
    "    Output[:] = 0\n",
    "    for i,j,d,od,m,n in dace.map[w/2:rows-w/2, w/2:cols-w/2,0:indepth,0:outdepth, 0:w, 0:w]:\n",
    "            Output[0, i, j, od] += Input[0, i - w / 2 + m, j - w / 2 + n, d] * kernel[ w - 1 - m, w - 1 - n, d, od]\n",
    "\n",
    "\n",
    "# Reduction along input depth\n",
    "@dace.program(auto_optimize=True, device=dace.DeviceType.GPU)\n",
    "#@dace.program(device=dace.DeviceType.GPU)\n",
    "def convolutionindepthreduce(Input: dtype[inputimages,rows, cols, indepth], \n",
    "                             kernel: dtype[ w, w, indepth, outdepth], \n",
    "                             Output: dtype[inputimages, rows, cols, outdepth]):\n",
    "    for i, j, od in dace.map[w/2:rows-w/2, w/2:cols-w/2, 0:outdepth]:\n",
    "        tmp = np.zeros([indepth*w*w], dtype = Input.dtype)\n",
    "        for d,m,n in dace.map[0:indepth,0:w,0:w]:\n",
    "            with dace.tasklet:\n",
    "                in_A << Input[0, i - w / 2 + m, j - w / 2 + n, d]\n",
    "                in_B << kernel[w - 1 - m, w - 1 - n, d, od]\n",
    "                out >> tmp[(d*(w*w)) + (m*w)+n]\n",
    "\n",
    "                out = in_A * in_B\n",
    "        Output[0,i,j,od] = dace.reduce(lambda a, b: a + b, tmp, identity=0)\n",
    "\n",
    "\n",
    "# Split into parallel and non parallel maps\n",
    "# TODO: Find why auto optimize is not working for simpleparallel\n",
    "@dace.program(device=dace.DeviceType.GPU)\n",
    "def convolutionsimpleparallel(Input: dtype[inputimages, rows, cols, indepth],\n",
    "                              kernel: dtype[ w, w, indepth, outdepth],\n",
    "                              Output: dtype[inputimages, rows, cols, outdepth]\n",
    "                              ):\n",
    "    Output[:] = 0\n",
    "\n",
    "    for i, j, od in dace.map[w/2:rows-w/2, w/2:cols-w/2, 0:outdepth]:\n",
    "        tmp = np.zeros([1], dtype = Input.dtype)\n",
    "        for d,m,n in dace.map[0:indepth,0:w,0:w]:\n",
    "            tmp = tmp + Input[0, i - w / 2 + m, j - w / 2 + n, d] * kernel[w - 1 - m, w - 1 - n, d, od]\n",
    "        Output[0,i,j,od] = tmp\n"
   ]
  },
  {
   "cell_type": "code",
   "execution_count": 59,
   "id": "32ed55c9",
   "metadata": {},
   "outputs": [],
   "source": [
    "# Prepare data with numpy\n",
    "#Input = np.random.rand(InChannels, Rows, Cols).astype(np_dtype)\n",
    "#kernel = np.random.rand(OutChannels, InChannels, W, W).astype(np_dtype)\n",
    "#Output = np.zeros((OutChannels, Rows, Cols), dtype=np_dtype)\n",
    "InputImages = 1\n",
    "Rows = 9\n",
    "Cols = 9\n",
    "InChannels = 1\n",
    "OutChannels = 2\n",
    "W = 3\n",
    "Stride = 1 # TODO: Code dace convolutions with stride\n",
    "\n",
    "# Prepare data with numpy\n",
    "Input = np.random.rand(InputImages, Rows, Cols, InChannels).astype(np_dtype)\n",
    "kernel = np.random.rand(W, W, InChannels, OutChannels).astype(np_dtype)\n",
    "Output = np.zeros((InputImages, Rows, Cols, OutChannels), dtype=np_dtype)"
   ]
  },
  {
   "cell_type": "code",
   "execution_count": null,
   "id": "69eb8915",
   "metadata": {},
   "outputs": [
    {
     "name": "stderr",
     "output_type": "stream",
     "text": [
      "/home/akanksha/spcl/dacelocal/venv/lib/python3.8/site-packages/dace/libraries/standard/nodes/reduce.py:458: UserWarning: Multiple axis reductions not supported with this expansion. Falling back to the pure expansion.\n",
      "  warnings.warn('Multiple axis reductions not supported with this expansion. '\n",
      "/home/akanksha/spcl/dacelocal/venv/lib/python3.8/site-packages/dace/sdfg/nodes.py:587: UserWarning: Reduce maps to unused symbol(s): {'cols', 'w', 'rows', 'indepth', 'inputimages', 'outdepth'}\n",
      "  warnings.warn(f\"{self.label} maps to unused symbol(s): {extra_symbols}\")\n"
     ]
    }
   ],
   "source": [
    "TIMES = {}\n",
    "\n",
    "TIMES['allparallel'] = %timeit -o convolutionallparallel(Input, kernel, Output)\n",
    "TIMES['simple'] = %timeit -o convolutionsimple(Input, kernel, Output)\n",
    "TIMES['indepthreduce'] = %timeit -o convolutionindepthreduce(Input, kernel, Output)\n",
    "TIMES['simpleparallel'] = %timeit -o convolutionsimpleparallel(Input, kernel, Output)"
   ]
  },
  {
   "cell_type": "code",
   "execution_count": 47,
   "id": "c6c398d6",
   "metadata": {},
   "outputs": [],
   "source": [
    "opdace = tf.convert_to_tensor(Output)\n",
    "\n",
    "input = tf.convert_to_tensor(Input)\n",
    "filter = tf.convert_to_tensor(kernel)\n",
    "\n",
    "op = tf.nn.conv2d(input, filter, strides=[1, 1, 1, 1], padding='VALID')\n",
    "\n",
    "\n",
    "# TODO: Verify dace output with op.\n",
    "# TODO: Look at the benchmarking code and check how you can make this code better.\n",
    "# TODO: Convert the jupyter notebook to a script.\n",
    "\n",
    "# Given an input tensor of shape batch_shape + [in_height, in_width, in_channels] \n",
    "# and a filter / kernel tensor of shape [filter_height, filter_width, in_channels, out_channels], \n",
    "\n",
    "# refConv = nn.Conv2d(in_channels=InChannels, out_channels=OutChannels, kernel_size=W, stride=1)\n",
    "# TODO: Figure out how to call 2D convolution in the same format. "
   ]
  },
  {
   "cell_type": "code",
   "execution_count": 48,
   "id": "8b4c0f40",
   "metadata": {},
   "outputs": [
    {
     "name": "stdout",
     "output_type": "stream",
     "text": [
      "tf.Tensor(\n",
      "[[[[2.00860497 1.61838472]\n",
      "   [1.74412942 1.27407995]\n",
      "   [1.84183245 1.36584612]\n",
      "   [2.11589779 1.50862774]\n",
      "   [1.62145124 1.73253209]\n",
      "   [1.21612589 1.01742867]\n",
      "   [1.41722904 1.31487633]]\n",
      "\n",
      "  [[2.29046625 1.7421261 ]\n",
      "   [1.45522289 0.94767536]\n",
      "   [2.06453161 1.66854083]\n",
      "   [1.88217863 1.82861582]\n",
      "   [1.8113171  1.30107098]\n",
      "   [1.85039381 1.21613048]\n",
      "   [2.03543844 1.47276817]]\n",
      "\n",
      "  [[2.502032   1.70942523]\n",
      "   [1.61625817 1.49564158]\n",
      "   [2.04833937 2.01633416]\n",
      "   [2.05144994 2.05674971]\n",
      "   [2.41800551 1.30399764]\n",
      "   [1.32107044 1.33600429]\n",
      "   [2.08616479 2.13142043]]\n",
      "\n",
      "  [[3.06516078 2.11755522]\n",
      "   [2.27745266 2.226651  ]\n",
      "   [2.85256219 1.96124932]\n",
      "   [2.33858708 1.71852988]\n",
      "   [2.0173419  2.04252604]\n",
      "   [2.28737377 1.67202275]\n",
      "   [2.34861269 2.13661163]]\n",
      "\n",
      "  [[2.02203427 2.00577376]\n",
      "   [2.55221594 2.2342773 ]\n",
      "   [2.93716282 1.81138556]\n",
      "   [2.00827084 1.88063236]\n",
      "   [1.97798295 1.58341122]\n",
      "   [2.17384518 1.56495373]\n",
      "   [1.92584004 1.38440471]]\n",
      "\n",
      "  [[2.24222304 1.56281551]\n",
      "   [2.96902544 2.11600062]\n",
      "   [2.84409421 2.49653461]\n",
      "   [2.25239074 2.15987855]\n",
      "   [2.00777826 1.49645145]\n",
      "   [1.71586767 1.13725344]\n",
      "   [1.6745629  1.21632182]]\n",
      "\n",
      "  [[1.48262282 1.30551438]\n",
      "   [2.1371475  2.01152934]\n",
      "   [2.68602994 2.32878796]\n",
      "   [2.99828914 1.88767517]\n",
      "   [2.16821409 1.71801771]\n",
      "   [2.41042023 1.97265441]\n",
      "   [2.07403074 2.15079666]]]], shape=(1, 7, 7, 2), dtype=float64)\n"
     ]
    }
   ],
   "source": [
    "# Verification code\n",
    "print(op)"
   ]
  },
  {
   "cell_type": "code",
   "execution_count": 50,
   "id": "95ec93ea",
   "metadata": {},
   "outputs": [],
   "source": [
    "#print(Output)"
   ]
  },
  {
   "cell_type": "code",
   "execution_count": 51,
   "id": "b7ed6585",
   "metadata": {},
   "outputs": [
    {
     "name": "stdout",
     "output_type": "stream",
     "text": [
      "tf.Tensor(\n",
      "[[[[0.         0.        ]\n",
      "   [0.         0.        ]\n",
      "   [0.         0.        ]\n",
      "   [0.         0.        ]\n",
      "   [0.         0.        ]\n",
      "   [0.         0.        ]\n",
      "   [0.         0.        ]\n",
      "   [0.         0.        ]\n",
      "   [0.         0.        ]]\n",
      "\n",
      "  [[0.         0.        ]\n",
      "   [2.09000829 1.3715652 ]\n",
      "   [1.1328043  1.27737368]\n",
      "   [1.85538061 1.39029791]\n",
      "   [1.99338967 1.4203543 ]\n",
      "   [1.70547395 1.57285532]\n",
      "   [1.25847695 1.01554551]\n",
      "   [1.24998661 1.50468344]\n",
      "   [0.         0.        ]]\n",
      "\n",
      "  [[0.         0.        ]\n",
      "   [2.38846561 1.79449533]\n",
      "   [1.65409753 1.08800423]\n",
      "   [2.71168631 1.58391867]\n",
      "   [1.88110361 2.04440605]\n",
      "   [1.75536367 1.27033845]\n",
      "   [1.65609647 1.15036212]\n",
      "   [2.46868225 1.4303703 ]\n",
      "   [0.         0.        ]]\n",
      "\n",
      "  [[0.         0.        ]\n",
      "   [2.65170448 1.79061805]\n",
      "   [1.84043673 1.66458651]\n",
      "   [2.08749182 2.02371857]\n",
      "   [2.49787779 1.85729677]\n",
      "   [2.04645178 1.77924027]\n",
      "   [2.2772024  1.28334171]\n",
      "   [2.70250859 2.15014235]\n",
      "   [0.         0.        ]]\n",
      "\n",
      "  [[0.         0.        ]\n",
      "   [3.01428244 2.20905504]\n",
      "   [2.46724626 2.27569569]\n",
      "   [2.60121747 2.03904666]\n",
      "   [2.32304399 1.44024105]\n",
      "   [2.1079808  1.86566004]\n",
      "   [1.92654938 1.88387465]\n",
      "   [2.06214924 1.95112182]\n",
      "   [0.         0.        ]]\n",
      "\n",
      "  [[0.         0.        ]\n",
      "   [1.74095252 1.89550634]\n",
      "   [2.69274531 2.12111042]\n",
      "   [2.77812843 2.132015  ]\n",
      "   [2.2407281  2.08749451]\n",
      "   [2.01028895 1.48875468]\n",
      "   [1.60017105 1.43908096]\n",
      "   [1.4064482  1.28547383]\n",
      "   [0.         0.        ]]\n",
      "\n",
      "  [[0.         0.        ]\n",
      "   [2.18337319 1.4740497 ]\n",
      "   [3.21149478 1.90073851]\n",
      "   [2.73299406 2.55078918]\n",
      "   [2.48250406 2.00920789]\n",
      "   [1.74721751 1.60953558]\n",
      "   [1.9241729  1.34140635]\n",
      "   [2.23750372 1.34926249]\n",
      "   [0.         0.        ]]\n",
      "\n",
      "  [[0.         0.        ]\n",
      "   [1.68832345 1.2462131 ]\n",
      "   [2.07997145 2.05658987]\n",
      "   [2.55331975 2.3699305 ]\n",
      "   [2.54822193 1.99297627]\n",
      "   [2.63690106 1.58839026]\n",
      "   [3.05160325 2.08409141]\n",
      "   [2.53368201 2.30279983]\n",
      "   [0.         0.        ]]\n",
      "\n",
      "  [[0.         0.        ]\n",
      "   [0.         0.        ]\n",
      "   [0.         0.        ]\n",
      "   [0.         0.        ]\n",
      "   [0.         0.        ]\n",
      "   [0.         0.        ]\n",
      "   [0.         0.        ]\n",
      "   [0.         0.        ]\n",
      "   [0.         0.        ]]]], shape=(1, 9, 9, 2), dtype=float64)\n"
     ]
    }
   ],
   "source": [
    "print(opdace)"
   ]
  },
  {
   "cell_type": "code",
   "execution_count": null,
   "id": "fafcb750",
   "metadata": {},
   "outputs": [],
   "source": []
  },
  {
   "cell_type": "code",
   "execution_count": null,
   "id": "16db7180",
   "metadata": {},
   "outputs": [],
   "source": []
  }
 ],
 "metadata": {
  "kernelspec": {
   "display_name": "venv",
   "language": "python",
   "name": "venv"
  },
  "language_info": {
   "codemirror_mode": {
    "name": "ipython",
    "version": 3
   },
   "file_extension": ".py",
   "mimetype": "text/x-python",
   "name": "python",
   "nbconvert_exporter": "python",
   "pygments_lexer": "ipython3",
   "version": "3.8.10"
  }
 },
 "nbformat": 4,
 "nbformat_minor": 5
}
