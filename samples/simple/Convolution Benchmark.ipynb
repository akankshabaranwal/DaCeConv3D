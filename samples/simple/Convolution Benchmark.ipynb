{
 "cells": [
  {
   "cell_type": "code",
   "execution_count": 1,
   "id": "a15b7791",
   "metadata": {},
   "outputs": [],
   "source": [
    "# Benchmark all the different variants of dace convolution\n",
    "# Benchmark it with respect to cudnn, tensorflow's conv2D\n",
    "# 1DConv, 2DConv, 3DConv\n",
    "# Verification and benchmarking"
   ]
  },
  {
   "cell_type": "code",
   "execution_count": 2,
   "id": "8178f79f",
   "metadata": {},
   "outputs": [
    {
     "name": "stderr",
     "output_type": "stream",
     "text": [
      "/home/akanksha/spcl/dacelocal/venv/lib/python3.8/site-packages/tqdm/auto.py:22: TqdmWarning: IProgress not found. Please update jupyter and ipywidgets. See https://ipywidgets.readthedocs.io/en/stable/user_install.html\n",
      "  from .autonotebook import tqdm as notebook_tqdm\n"
     ]
    },
    {
     "data": {
      "text/html": [
       "<link href=\"https://fonts.googleapis.com/icon?family=Material+Icons\" rel=\"stylesheet\"><script src=\"https://spcl.github.io/dace/webclient2/dist/sdfv.js\"></script>\n",
       "<link href=\"https://spcl.github.io/dace/webclient2/sdfv.css\" rel=\"stylesheet\">\n"
      ],
      "text/plain": [
       "<IPython.core.display.HTML object>"
      ]
     },
     "metadata": {},
     "output_type": "display_data"
    }
   ],
   "source": [
    "from torch import nn\n",
    "import click\n",
    "import dace\n",
    "import numpy as np\n",
    "from pprint import pprint\n",
    "import dace.libraries.blas\n",
    "import matplotlib.pyplot as plt\n",
    "import tensorflow as tf\n",
    "import pandas as pd\n",
    "import glob\n",
    "import os"
   ]
  },
  {
   "cell_type": "code",
   "execution_count": 3,
   "id": "3183df1d",
   "metadata": {},
   "outputs": [],
   "source": [
    "# Functions for plotting\n",
    "\n",
    "def barplot(title, labels=False):\n",
    "    x = list(sorted(TIMES.keys()))\n",
    "    bars = [np.median(TIMES[key].timings) for key in x]\n",
    "    yerr = [np.std(TIMES[key].timings) for key in x]\n",
    "    color = [('#86add9' if 'dace' in key else 'salmon') for key in x]\n",
    "\n",
    "    p = plt.bar(x, bars, yerr=yerr, color=color)\n",
    "    plt.ylabel('Runtime [s]'); plt.xlabel('Implementation'); plt.title(title); \n",
    "    if labels:\n",
    "        plt.gca().bar_label(p)\n",
    "    pass\n",
    "\n",
    "def barplotvalues(title, labels=False):\n",
    "    x = list(sorted(TIMES.keys()))\n",
    "    bars = [np.median(TIMES[key]) for key in x]\n",
    "    yerr = [np.std(TIMES[key]) for key in x]\n",
    "    color = [('#86add9' if 'dace' in key else 'salmon') for key in x]\n",
    "\n",
    "    p = plt.bar(x, bars, yerr=yerr, color=color)\n",
    "    plt.ylabel('Runtime [s]'); plt.xlabel('Implementation'); plt.title(title); \n",
    "    if labels:\n",
    "        plt.gca().bar_label(p)\n",
    "    pass"
   ]
  },
  {
   "cell_type": "code",
   "execution_count": 4,
   "id": "c157ce8c",
   "metadata": {},
   "outputs": [],
   "source": [
    "# Define symbolic sizes for arbitrary inputs\n",
    "rows = dace.symbol('rows')\n",
    "cols = dace.symbol('cols')\n",
    "indepth = dace.symbol('indepth')\n",
    "inputimages = dace.symbol('inputimages')\n",
    "outdepth = dace.symbol('outdepth')\n",
    "chunklength = dace.symbol('chunklength', dtype=dace.int64, integer=True, positive=True)\n",
    "\n",
    "w = dace.symbol('w')\n",
    "\n",
    "# Define data type to use\n",
    "dtype = dace.float64\n",
    "np_dtype = np.float64"
   ]
  },
  {
   "cell_type": "code",
   "execution_count": 5,
   "id": "eeea2064",
   "metadata": {},
   "outputs": [],
   "source": [
    "# Different convolution variants\n",
    "\n",
    "# Simple convolution\n",
    "@dace.program(auto_optimize=True, device=dace.DeviceType.GPU)\n",
    "def dace_simple(Input: dtype[inputimages, rows, cols, indepth], \n",
    "                      kernel: dtype[ w, w, indepth, outdepth], \n",
    "                      Output: dtype[inputimages, rows, cols, outdepth]):\n",
    "    Output[:] = 0\n",
    "    for i,j,d,od,m,n in dace.map[w/2:rows-w/2, w/2:cols-w/2,0:indepth,0:outdepth, 0:w, 0:w]:\n",
    "            Output[0, i, j, od] += Input[0, i - w / 2 + m, j - w / 2 + n, d] * kernel[ m, n, d, od]\n",
    "\n",
    "\n",
    "\n",
    "\n",
    "# Split into parallel and non parallel maps\n",
    "# TODO: Find why auto optimize is not working for simpleparallel\n",
    "@dace.program(device=dace.DeviceType.GPU)\n",
    "def dace_simpleparallel(Input: dtype[inputimages, rows, cols, indepth],\n",
    "                              kernel: dtype[ w, w, indepth, outdepth],\n",
    "                              Output: dtype[inputimages, rows, cols, outdepth]\n",
    "                              ):\n",
    "    Output[:] = 0\n",
    "\n",
    "    for i, j, od in dace.map[w/2:rows-w/2, w/2:cols-w/2, 0:outdepth]:\n",
    "        tmp = np.zeros([1], dtype = Input.dtype)\n",
    "        for d,m,n in dace.map[0:indepth,0:w,0:w]:\n",
    "            tmp = tmp + Input[0, i - w / 2 + m, j - w / 2 + n, d] * kernel[m, n, d, od]\n",
    "        Output[0,i,j,od] = tmp\n",
    "\n",
    "        \n",
    "# TODO: Function returns incorrect values for last rows. Debug the error.\n",
    "@dace.program(auto_optimize=True, device=dace.DeviceType.GPU)\n",
    "def dace_allreduce(Input: dtype[inputimages, rows, cols, indepth], \n",
    "                           kernel: dtype[ w, w, indepth, outdepth], \n",
    "                           Output: dtype[inputimages, rows, cols, outdepth]):\n",
    "    tmp = np.zeros([inputimages, rows, cols, indepth*w*w, outdepth], dtype = Input.dtype)\n",
    "    for i,j,d,od,m,n in dace.map[w/2:rows-w/2, w/2:cols-w/2,0:indepth,0:outdepth, 0:w, 0:w]:\n",
    "        with dace.tasklet:\n",
    "            in_A << Input[0, i - w/2 + m, j - w/2 + n, d]\n",
    "            in_B << kernel[m, n, d, od]\n",
    "            out >> tmp[0, i, j, (d*(w*w)) + (m*w)+n, od]\n",
    "            out = in_A * in_B\n",
    "\n",
    "    dace.reduce(lambda a,b:a+b, tmp, Output, axis=3, identity=0)"
   ]
  },
  {
   "cell_type": "code",
   "execution_count": 22,
   "id": "32ed55c9",
   "metadata": {},
   "outputs": [],
   "source": [
    "# Prepare data with numpy\n",
    "InputImages = 1\n",
    "Rows = 9\n",
    "Cols = 9\n",
    "InChannels = 1\n",
    "OutChannels = 2\n",
    "W = 3\n",
    "Stride = 1 # TODO: Code dace convolutions with stride\n",
    "\n",
    "# Prepare data with numpy\n",
    "Input = np.random.rand(InputImages, Rows, Cols, InChannels).astype(np_dtype)\n",
    "kernel = np.random.rand(W, W, InChannels, OutChannels).astype(np_dtype)\n",
    "Output = np.zeros((InputImages, Rows, Cols, OutChannels), dtype=np_dtype)"
   ]
  },
  {
   "cell_type": "code",
   "execution_count": 23,
   "id": "2937b70a",
   "metadata": {},
   "outputs": [
    {
     "name": "stdout",
     "output_type": "stream",
     "text": [
      "Verification successfull for dace_simple\n",
      "Verification successfull for dace_simpleparallel\n",
      "!!! Incorrect convolution for dace_allreduce\n"
     ]
    }
   ],
   "source": [
    "# Verification\n",
    "input = tf.convert_to_tensor(Input)\n",
    "filter = tf.convert_to_tensor(kernel)\n",
    "\n",
    "op = tf.nn.conv2d(input, filter, strides=[1, 1, 1, 1], padding=\"VALID\")\n",
    "\n",
    "\n",
    "def verify_with_ref(dace_fun, dace_fun_name, refop, Input, kernel, Output, W):\n",
    "    dace_fun(Input, kernel, Output)\n",
    "    opdace = tf.convert_to_tensor(Output)\n",
    "    opdace = opdace[:,int(W/2):Rows-int(W/2),int(W/2):Cols-int(W/2),:]\n",
    "    if(sum(sum(sum(sum(opdace-op))))==0):\n",
    "        print(f\"Verification successfull for {dace_fun_name}\")\n",
    "    else:\n",
    "        print(f\"!!! Incorrect convolution for {dace_fun_name}\")\n",
    "\n",
    "verify_with_ref(dace_simple, 'dace_simple', op, Input, kernel, Output, W)\n",
    "verify_with_ref(dace_simpleparallel, 'dace_simpleparallel', op, Input, kernel, Output, W)\n",
    "verify_with_ref(dace_allreduce, 'dace_allreduce', op, Input, kernel, Output, W)"
   ]
  },
  {
   "cell_type": "code",
   "execution_count": 8,
   "id": "4648d98c",
   "metadata": {},
   "outputs": [
    {
     "name": "stdout",
     "output_type": "stream",
     "text": [
      "59.1 ms ± 0 ns per loop (mean ± std. dev. of 1 run, 1 loop each)\n",
      "43.3 ms ± 0 ns per loop (mean ± std. dev. of 1 run, 1 loop each)\n",
      "43 ms ± 0 ns per loop (mean ± std. dev. of 1 run, 1 loop each)\n",
      "25.2 ms ± 0 ns per loop (mean ± std. dev. of 1 run, 1 loop each)\n"
     ]
    }
   ],
   "source": [
    "# Place holder function for tf reference code for profiling.\n",
    "def timetfgpu():\n",
    "    op=tf.nn.conv2d(input, filter, strides=[1, 1, 1, 1], padding='VALID')\n",
    "    \n",
    "# Warmup\n",
    "%timeit -r 1 -n 1 dace_allreduce(Input, kernel, Output)\n",
    "%timeit -r 1 -n 1 dace_simple(Input, kernel, Output)\n",
    "%timeit -r 1 -n 1 dace_simpleparallel(Input, kernel, Output)\n",
    "%timeit -r 1 -n 1 timetfgpu()"
   ]
  },
  {
   "cell_type": "code",
   "execution_count": 9,
   "id": "69eb8915",
   "metadata": {},
   "outputs": [
    {
     "name": "stdout",
     "output_type": "stream",
     "text": [
      "42.2 ms ± 348 µs per loop (mean ± std. dev. of 7 runs, 10 loops each)\n",
      "42.1 ms ± 280 µs per loop (mean ± std. dev. of 7 runs, 10 loops each)\n",
      "41.9 ms ± 275 µs per loop (mean ± std. dev. of 7 runs, 10 loops each)\n",
      "144 µs ± 112 ns per loop (mean ± std. dev. of 7 runs, 10,000 loops each)\n"
     ]
    },
    {
     "data": {
      "image/png": "[encoded data removed]",
      "text/plain": [
       "<Figure size 432x288 with 1 Axes>"
      ]
     },
     "metadata": {
      "needs_background": "light"
     },
     "output_type": "display_data"
    }
   ],
   "source": [
    "# Naive profiling of baselines\n",
    "TIMES = {}\n",
    "TIMES['dace_simple'] = %timeit -o dace_simple(Input, kernel, Output)\n",
    "TIMES['dace_allreduce'] = %timeit -o dace_allreduce(Input, kernel, Output)\n",
    "TIMES['dace_simpleparallel'] = %timeit -o dace_simpleparallel(Input, kernel, Output)\n",
    "TIMES['tfgpu'] = %timeit -o timetfgpu()\n",
    "\n",
    "barplot('Naive Baseline Profiling', labels=True)"
   ]
  },
  {
   "cell_type": "code",
   "execution_count": 10,
   "id": "6ffe0eb4",
   "metadata": {},
   "outputs": [
    {
     "name": "stdout",
     "output_type": "stream",
     "text": [
      "\n",
      "Profiling...\n",
      "Profiling: 100%|████████████████████████████| 100/100 [00:00<00:00, 7642.54it/s]\n",
      "DaCe 0.11969449997195625 ms\n",
      "\n",
      "Profiling...\n",
      "Profiling: 100%|███████████████████████████| 100/100 [00:00<00:00, 16000.85it/s]\n",
      "DaCe 0.05869149993031897 ms\n",
      "\n",
      "Profiling...\n",
      "Profiling: 100%|██████████████████████████| 100/100 [00:00<00:00, 110580.12it/s]\n",
      "DaCe 0.00560700004825776 ms\n",
      "143 µs ± 109 ns per loop (mean ± std. dev. of 7 runs, 10,000 loops each)\n"
     ]
    },
    {
     "data": {
      "image/png": "[encoded data removed]",
      "text/plain": [
       "<Figure size 432x288 with 1 Axes>"
      ]
     },
     "metadata": {
      "needs_background": "light"
     },
     "output_type": "display_data"
    }
   ],
   "source": [
    "# Dace profiling method, Returns median values in ms\n",
    "def rundaceprofiling(dace_fun, dace_fun_name, reps):\n",
    "    # Temporarily set the DACE_profiling config to True\n",
    "    with dace.config.set_temporary('profiling', value=True):\n",
    "        # You can control the number of times a program is run with the treps configuration\n",
    "        with dace.config.set_temporary('treps', value=reps):\n",
    "            dace_fun(Input,kernel,Output)\n",
    "    dace_profile_fun = dace_fun_name\n",
    "    list_of_files = glob.glob(f'.dacecache/{dace_profile_fun}/profiling/results-*.csv')\n",
    "    latest_file = max(list_of_files, key=os.path.getctime)\n",
    "    df = pd.read_csv(latest_file)\n",
    "    return df['Runtime_sec'].median()*1000\n",
    "\n",
    "TIMES = {}\n",
    "nrepeat = 100\n",
    "TIMES['dace_simple'] = rundaceprofiling(dace_simple, 'dace_simple', nrepeat)\n",
    "TIMES['dace_allreduce'] = rundaceprofiling(dace_allreduce, 'dace_allreduce', nrepeat)\n",
    "TIMES['dace_simpleparallel'] = rundaceprofiling(dace_simpleparallel, 'dace_simpleparallel', nrepeat)\n",
    "x = %timeit -o timetfgpu()\n",
    "TIMES['tfgpu'] = np.median(x.timings) \n",
    "\n",
    "barplotvalues(\"Baselines\", True)"
   ]
  },
  {
   "cell_type": "code",
   "execution_count": 26,
   "id": "ab06a177",
   "metadata": {},
   "outputs": [
    {
     "name": "stdout",
     "output_type": "stream",
     "text": [
      "Running benchmark for conv2D\n",
      "Verification successfull for dace_simpleparallel\n",
      "44 ms ± 2.69 ms per loop (mean ± std. dev. of 5 runs, 5 loops each)\n",
      "405 µs ± 0 ns per loop (mean ± std. dev. of 1 run, 1 loop each)\n",
      "\n",
      "Profiling...\n",
      "Profiling: 100%|███████████████████████████| 100/100 [00:00<00:00, 89679.37it/s]\n",
      "DaCe 0.008563999926991528 ms\n",
      "152 µs ± 849 ns per loop (mean ± std. dev. of 7 runs, 10,000 loops each)\n",
      "Verification successfull for dace_simpleparallel\n",
      "43.1 ms ± 968 µs per loop (mean ± std. dev. of 5 runs, 5 loops each)\n",
      "413 µs ± 0 ns per loop (mean ± std. dev. of 1 run, 1 loop each)\n",
      "\n",
      "Profiling...\n",
      "Profiling: 100%|███████████████████████████| 100/100 [00:00<00:00, 26952.22it/s]\n",
      "DaCe 0.03408700013096677 ms\n",
      "152 µs ± 422 ns per loop (mean ± std. dev. of 7 runs, 10,000 loops each)\n"
     ]
    },
    {
     "data": {
      "image/png": "[encoded data removed]",
      "text/plain": [
       "<Figure size 432x288 with 1 Axes>"
      ]
     },
     "metadata": {
      "needs_background": "light"
     },
     "output_type": "display_data"
    }
   ],
   "source": [
    "# Trying out code to convert this to a script\n",
    "import pandas as pd\n",
    "import json\n",
    "\n",
    "# Parameterize the code to take a csv file as an input arg\n",
    "# Maybe write a script which goes through these csvs one by one and generates the reports for each of them\n",
    "header = [\"InputDepth\", \"InputRow\", \"InputCol\", \"OutputDepth\", \"KernelRow\", \"KernelCol\", \"Stride\"]\n",
    "convparams = pd.read_csv(\"convparam/sample.csv\")\n",
    "convparams = pd.DataFrame(convparams, columns=header)\n",
    "\n",
    "print(\"Running benchmark for conv2D\")\n",
    "\n",
    "# Reset index to iterate through each 2D convolution parameter from the csv file\n",
    "convparams = convparams.reset_index()\n",
    "\n",
    "ALLPARAMSTIMES = {}\n",
    "for index, currconv in convparams.iterrows():    \n",
    "    # Extract parameters to prepare data for convolution\n",
    "    InputImages = 1\n",
    "    Rows = currconv[\"InputRow\"]\n",
    "    Cols = currconv[\"InputCol\"]\n",
    "    InChannels = currconv[\"InputDepth\"]\n",
    "    OutChannels = currconv[\"OutputDepth\"]\n",
    "    W = currconv[\"KernelRow\"]\n",
    "    Stride = currconv[\"Stride\"]\n",
    "    \n",
    "    # Prepare data with numpy\n",
    "    Input = np.random.rand(InputImages, Rows, Cols, InChannels).astype(np_dtype)\n",
    "    kernel = np.random.rand(W, W, InChannels, OutChannels).astype(np_dtype)\n",
    "    Output = np.zeros((InputImages, Rows, Cols, OutChannels), dtype=np_dtype)\n",
    "    \n",
    "    #** Start Verification\n",
    "    # TODO: Fix when kernel dimension is even\n",
    "    input = tf.convert_to_tensor(Input)\n",
    "    filter = tf.convert_to_tensor(kernel)\n",
    "    op = tf.nn.conv2d(input, filter, strides=[1, 1, 1, 1], padding=\"VALID\")\n",
    "    verify_with_ref(dace_simpleparallel, 'dace_simpleparallel', op, Input, kernel, Output, W)\n",
    "    # TODO: Maybe exit and don't run benchmarking when the verification fails?\n",
    "    #** End Verification\n",
    "    \n",
    "    #** Start Benchmarking **\n",
    "    # Warm up\n",
    "    %timeit -r 5 -n 5 dace_simpleparallel(Input, kernel, Output)\n",
    "    %timeit -r 1 -n 1 timetfgpu()\n",
    "    \n",
    "    # Main benchmarking\n",
    "    TIMES = {}\n",
    "    nrepeat = 100\n",
    "    TIMES['dace_simpleparallel'] = rundaceprofiling(dace_simpleparallel, 'dace_simpleparallel', nrepeat)\n",
    "    x = %timeit -o timetfgpu()\n",
    "    TIMES['tfgpu'] = np.median(x.timings)\n",
    "    ALLPARAMSTIMES[f'{index}'] = TIMES\n",
    "    # barplotvalues(\"Baselines\", True)\n",
    "    \n",
    "# TODO: Fix file name so that it corresponds to the csv file that was read\n",
    "json.dump( ALLPARAMSTIMES, open( \"benchmarkout/sample.json\", 'w' ) )"
   ]
  }
 ],
 "metadata": {
  "kernelspec": {
   "display_name": "venv",
   "language": "python",
   "name": "venv"
  },
  "language_info": {
   "codemirror_mode": {
    "name": "ipython",
    "version": 3
   },
   "file_extension": ".py",
   "mimetype": "text/x-python",
   "name": "python",
   "nbconvert_exporter": "python",
   "pygments_lexer": "ipython3",
   "version": "3.8.10"
  }
 },
 "nbformat": 4,
 "nbformat_minor": 5
}
