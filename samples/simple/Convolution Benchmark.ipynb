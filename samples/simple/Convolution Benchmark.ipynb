{
 "cells": [
  {
   "cell_type": "code",
   "execution_count": 49,
   "id": "a15b7791",
   "metadata": {},
   "outputs": [],
   "source": [
    "# Benchmark all the different variations of dace convolution\n",
    "# Benchmark it with respect to cudnn, pytorch's conv2D\n",
    "# 1DConv, 2DConv, 3DConv\n",
    "# Verification and benchmarking"
   ]
  },
  {
   "cell_type": "code",
   "execution_count": 50,
   "id": "8178f79f",
   "metadata": {},
   "outputs": [],
   "source": [
    "from torch import nn\n",
    "import click\n",
    "import dace\n",
    "import numpy as np\n",
    "from pprint import pprint\n",
    "import dace.libraries.blas\n",
    "import matplotlib.pyplot as plt\n",
    "import tensorflow as tf"
   ]
  },
  {
   "cell_type": "code",
   "execution_count": 51,
   "id": "3183df1d",
   "metadata": {},
   "outputs": [],
   "source": [
    "def barplot(title, labels=False):\n",
    "    x = ['numpy'] + list(sorted(TIMES.keys() - {'numpy'}))\n",
    "    bars = [np.median(TIMES[key].timings) for key in x]\n",
    "    yerr = [np.std(TIMES[key].timings) for key in x]\n",
    "    color = [('#86add9' if 'dace' in key else 'salmon') for key in x]\n",
    "\n",
    "    p = plt.bar(x, bars, yerr=yerr, color=color)\n",
    "    plt.ylabel('Runtime [s]'); plt.xlabel('Implementation'); plt.title(title); \n",
    "    if labels:\n",
    "        plt.gca().bar_label(p)\n",
    "    pass"
   ]
  },
  {
   "cell_type": "code",
   "execution_count": 52,
   "id": "c157ce8c",
   "metadata": {},
   "outputs": [],
   "source": [
    "# Define symbolic sizes for arbitrary inputs\n",
    "rows = dace.symbol('rows')\n",
    "cols = dace.symbol('cols')\n",
    "indepth = dace.symbol('indepth')\n",
    "inputimages = dace.symbol('inputimages')\n",
    "outdepth = dace.symbol('outdepth')\n",
    "chunklength = dace.symbol('chunklength', dtype=dace.int64, integer=True, positive=True)\n",
    "\n",
    "w = dace.symbol('w')\n",
    "\n",
    "# Define data type to use\n",
    "dtype = dace.float64\n",
    "np_dtype = np.float64"
   ]
  },
  {
   "cell_type": "code",
   "execution_count": 53,
   "id": "eeea2064",
   "metadata": {},
   "outputs": [],
   "source": [
    "# Different convolution versions\n",
    "@dace.program(auto_optimize=True, device=dace.DeviceType.GPU)\n",
    "#@dace.program(device=dace.DeviceType.GPU)\n",
    "def convolutionallparallel(Input: dtype[inputimages, rows, cols, indepth], \n",
    "                           kernel: dtype[ w, w, indepth, outdepth], \n",
    "                           Output: dtype[inputimages, rows, cols, outdepth]):\n",
    "    tmp = np.zeros([inputimages, rows, cols, indepth*w*w, outdepth], dtype = Input.dtype)\n",
    "    for i,j,d,od,m,n in dace.map[w/2:rows-w/2, w/2:cols-w/2,0:indepth,0:outdepth, 0:w, 0:w]:\n",
    "        with dace.tasklet:\n",
    "            in_A << Input[0, i - w/2 + m, j - w/2 + n, d]\n",
    "            in_B << kernel[m, n, d, od]\n",
    "            out >> tmp[0, i, j, (d*(w*w)) + (m*w)+n, od]\n",
    "\n",
    "            out = in_A * in_B\n",
    "\n",
    "    dace.reduce(lambda a,b:a+b, tmp, Output, axis=3, identity=0)\n",
    "\n",
    "\n",
    "# Simple convolution\n",
    "@dace.program(auto_optimize=True, device=dace.DeviceType.GPU)\n",
    "#@dace.program(device=dace.DeviceType.GPU)\n",
    "def convolutionsimple(Input: dtype[inputimages, rows, cols, indepth], \n",
    "                      kernel: dtype[ w, w, indepth, outdepth], \n",
    "                      Output: dtype[inputimages, rows, cols, outdepth]):\n",
    "    Output[:] = 0\n",
    "    for i,j,d,od,m,n in dace.map[w/2:rows-w/2, w/2:cols-w/2,0:indepth,0:outdepth, 0:w, 0:w]:\n",
    "            #Output[0, i, j, od] += Input[0, i - w / 2 + m, j - w / 2 + n, d] * kernel[ w - 1 - m, w - 1 - n, d, od]\n",
    "            Output[0, i, j, od] += Input[0, i - w / 2 + m, j - w / 2 + n, d] * kernel[ m, n, d, od]\n",
    "\n",
    "\n",
    "# Reduction along input depth\n",
    "@dace.program(auto_optimize=True, device=dace.DeviceType.GPU)\n",
    "#@dace.program(device=dace.DeviceType.GPU)\n",
    "def convolutionindepthreduce(Input: dtype[inputimages,rows, cols, indepth], \n",
    "                             kernel: dtype[ w, w, indepth, outdepth], \n",
    "                             Output: dtype[inputimages, rows, cols, outdepth]):\n",
    "    for i, j, od in dace.map[w/2:rows-w/2, w/2:cols-w/2, 0:outdepth]:\n",
    "        tmp = np.zeros([indepth*w*w], dtype = Input.dtype)\n",
    "        for d,m,n in dace.map[0:indepth,0:w,0:w]:\n",
    "            with dace.tasklet:\n",
    "                in_A << Input[0, i - w / 2 + m, j - w / 2 + n, d]\n",
    "                #in_B << kernel[w - 1 - m, w - 1 - n, d, od]\n",
    "                in_B << kernel[m, n, d, od]\n",
    "                out >> tmp[(d*(w*w)) + (m*w)+n]\n",
    "\n",
    "                out = in_A * in_B\n",
    "        Output[0,i,j,od] = dace.reduce(lambda a, b: a + b, tmp, identity=0)\n",
    "\n",
    "\n",
    "# Split into parallel and non parallel maps\n",
    "# TODO: Find why auto optimize is not working for simpleparallel\n",
    "@dace.program(device=dace.DeviceType.GPU)\n",
    "def convolutionsimpleparallel(Input: dtype[inputimages, rows, cols, indepth],\n",
    "                              kernel: dtype[ w, w, indepth, outdepth],\n",
    "                              Output: dtype[inputimages, rows, cols, outdepth]\n",
    "                              ):\n",
    "    Output[:] = 0\n",
    "\n",
    "    for i, j, od in dace.map[w/2:rows-w/2, w/2:cols-w/2, 0:outdepth]:\n",
    "        tmp = np.zeros([1], dtype = Input.dtype)\n",
    "        for d,m,n in dace.map[0:indepth,0:w,0:w]:\n",
    "            #tmp = tmp + Input[0, i - w / 2 + m, j - w / 2 + n, d] * kernel[w - 1 - m, w - 1 - n, d, od]\n",
    "            tmp = tmp + Input[0, i - w / 2 + m, j - w / 2 + n, d] * kernel[m, n, d, od]\n",
    "        Output[0,i,j,od] = tmp\n"
   ]
  },
  {
   "cell_type": "code",
   "execution_count": 54,
   "id": "32ed55c9",
   "metadata": {},
   "outputs": [],
   "source": [
    "# Prepare data with numpy\n",
    "#Input = np.random.rand(InChannels, Rows, Cols).astype(np_dtype)\n",
    "#kernel = np.random.rand(OutChannels, InChannels, W, W).astype(np_dtype)\n",
    "#Output = np.zeros((OutChannels, Rows, Cols), dtype=np_dtype)\n",
    "InputImages = 1\n",
    "Rows = 9\n",
    "Cols = 9\n",
    "InChannels = 1\n",
    "OutChannels = 2\n",
    "W = 3\n",
    "Stride = 1 # TODO: Code dace convolutions with stride\n",
    "\n",
    "# Prepare data with numpy\n",
    "Input = np.random.rand(InputImages, Rows, Cols, InChannels).astype(np_dtype)\n",
    "kernel = np.random.rand(W, W, InChannels, OutChannels).astype(np_dtype)\n",
    "Output = np.zeros((InputImages, Rows, Cols, OutChannels), dtype=np_dtype)"
   ]
  },
  {
   "cell_type": "code",
   "execution_count": 55,
   "id": "05ac03ea",
   "metadata": {},
   "outputs": [
    {
     "name": "stdout",
     "output_type": "stream",
     "text": [
      "Verification succesfull\n"
     ]
    }
   ],
   "source": [
    "convolutionsimple(Input, kernel, Output)\n",
    "opdace = tf.convert_to_tensor(Output)\n",
    "opdace = opdace[:,int(W/2):Rows-int(W/2),int(W/2):Cols-int(W/2),:]\n",
    "input = tf.convert_to_tensor(Input)\n",
    "filter = tf.convert_to_tensor(kernel)\n",
    "\n",
    "op = tf.nn.conv2d(input, filter, strides=[1, 1, 1, 1], padding='VALID')\n",
    "\n",
    "if(sum(sum(sum(sum(opdace-op))))==0):\n",
    "    print(\"Verification successfull\")\n",
    "\n",
    "# TODO: Look at the benchmarking code and check how you can make this code better.\n",
    "# TODO: Convert the jupyter notebook to a script."
   ]
  },
  {
   "cell_type": "code",
   "execution_count": 56,
   "id": "69eb8915",
   "metadata": {},
   "outputs": [],
   "source": [
    "# TIMES = {}\n",
    "\n",
    "# TIMES['allparallel'] = %timeit -o convolutionallparallel(Input, kernel, Output)\n",
    "# TIMES['simple'] = %timeit -o convolutionsimple(Input, kernel, Output)\n",
    "# TIMES['indepthreduce'] = %timeit -o convolutionindepthreduce(Input, kernel, Output)\n",
    "# TIMES['simpleparallel'] = %timeit -o convolutionsimpleparallel(Input, kernel, Output)"
   ]
  },
  {
   "cell_type": "code",
   "execution_count": null,
   "id": "a45dcacc",
   "metadata": {},
   "outputs": [],
   "source": []
  }
 ],
 "metadata": {
  "kernelspec": {
   "display_name": "venv",
   "language": "python",
   "name": "venv"
  },
  "language_info": {
   "codemirror_mode": {
    "name": "ipython",
    "version": 3
   },
   "file_extension": ".py",
   "mimetype": "text/x-python",
   "name": "python",
   "nbconvert_exporter": "python",
   "pygments_lexer": "ipython3",
   "version": "3.8.10"
  }
 },
 "nbformat": 4,
 "nbformat_minor": 5
}
