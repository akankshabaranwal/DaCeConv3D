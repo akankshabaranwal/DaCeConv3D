{
 "cells": [
  {
   "cell_type": "code",
   "execution_count": 61,
   "id": "a15b7791",
   "metadata": {},
   "outputs": [],
   "source": [
    "# Benchmark all the different variations of dace convolution\n",
    "# Benchmark it with respect to cudnn, pytorch's conv2D\n",
    "# 1DConv, 2DConv, 3DConv\n",
    "# Verification and benchmarking"
   ]
  },
  {
   "cell_type": "code",
   "execution_count": 79,
   "id": "8178f79f",
   "metadata": {},
   "outputs": [],
   "source": [
    "from torch import nn\n",
    "import click\n",
    "import dace\n",
    "import numpy as np\n",
    "from pprint import pprint\n",
    "import dace.libraries.blas\n",
    "import matplotlib.pyplot as plt\n",
    "import tensorflow as tf"
   ]
  },
  {
   "cell_type": "code",
   "execution_count": 80,
   "id": "3183df1d",
   "metadata": {},
   "outputs": [],
   "source": [
    "def barplot(title, labels=False):\n",
    "    x = list(sorted(TIMES.keys()))\n",
    "    bars = [np.median(TIMES[key].timings) for key in x]\n",
    "    yerr = [np.std(TIMES[key].timings) for key in x]\n",
    "    color = [('#86add9' if 'dace' in key else 'salmon') for key in x]\n",
    "\n",
    "    p = plt.bar(x, bars, yerr=yerr, color=color)\n",
    "    plt.ylabel('Runtime [s]'); plt.xlabel('Implementation'); plt.title(title); \n",
    "    if labels:\n",
    "        plt.gca().bar_label(p)\n",
    "    pass"
   ]
  },
  {
   "cell_type": "code",
   "execution_count": 81,
   "id": "c157ce8c",
   "metadata": {},
   "outputs": [],
   "source": [
    "# Define symbolic sizes for arbitrary inputs\n",
    "rows = dace.symbol('rows')\n",
    "cols = dace.symbol('cols')\n",
    "indepth = dace.symbol('indepth')\n",
    "inputimages = dace.symbol('inputimages')\n",
    "outdepth = dace.symbol('outdepth')\n",
    "chunklength = dace.symbol('chunklength', dtype=dace.int64, integer=True, positive=True)\n",
    "\n",
    "w = dace.symbol('w')\n",
    "\n",
    "# Define data type to use\n",
    "dtype = dace.float64\n",
    "np_dtype = np.float64"
   ]
  },
  {
   "cell_type": "code",
   "execution_count": 82,
   "id": "eeea2064",
   "metadata": {},
   "outputs": [],
   "source": [
    "# Different convolution versions\n",
    "@dace.program(auto_optimize=True, device=dace.DeviceType.GPU)\n",
    "def convolutionallreduce(Input: dtype[inputimages, rows, cols, indepth], \n",
    "                           kernel: dtype[ w, w, indepth, outdepth], \n",
    "                           Output: dtype[inputimages, rows, cols, outdepth]):\n",
    "    tmp = np.zeros([inputimages, rows, cols, indepth*w*w, outdepth], dtype = Input.dtype)\n",
    "    for i,j,d,od,m,n in dace.map[w/2:rows-w/2, w/2:cols-w/2,0:indepth,0:outdepth, 0:w, 0:w]:\n",
    "        with dace.tasklet:\n",
    "            in_A << Input[0, i - w/2 + m, j - w/2 + n, d]\n",
    "            in_B << kernel[m, n, d, od]\n",
    "            out >> tmp[0, i, j, (d*(w*w)) + (m*w)+n, od]\n",
    "\n",
    "            out = in_A * in_B\n",
    "\n",
    "    dace.reduce(lambda a,b:a+b, tmp, Output, axis=3, identity=0)\n",
    "\n",
    "\n",
    "# Simple convolution\n",
    "@dace.program(auto_optimize=True, device=dace.DeviceType.GPU)\n",
    "def convolutionsimple(Input: dtype[inputimages, rows, cols, indepth], \n",
    "                      kernel: dtype[ w, w, indepth, outdepth], \n",
    "                      Output: dtype[inputimages, rows, cols, outdepth]):\n",
    "    Output[:] = 0\n",
    "    for i,j,d,od,m,n in dace.map[w/2:rows-w/2, w/2:cols-w/2,0:indepth,0:outdepth, 0:w, 0:w]:\n",
    "            Output[0, i, j, od] += Input[0, i - w / 2 + m, j - w / 2 + n, d] * kernel[ m, n, d, od]\n",
    "\n",
    "\n",
    "\n",
    "\n",
    "# Split into parallel and non parallel maps\n",
    "# TODO: Find why auto optimize is not working for simpleparallel\n",
    "@dace.program(device=dace.DeviceType.GPU)\n",
    "def convolutionsimpleparallel(Input: dtype[inputimages, rows, cols, indepth],\n",
    "                              kernel: dtype[ w, w, indepth, outdepth],\n",
    "                              Output: dtype[inputimages, rows, cols, outdepth]\n",
    "                              ):\n",
    "    Output[:] = 0\n",
    "\n",
    "    for i, j, od in dace.map[w/2:rows-w/2, w/2:cols-w/2, 0:outdepth]:\n",
    "        tmp = np.zeros([1], dtype = Input.dtype)\n",
    "        for d,m,n in dace.map[0:indepth,0:w,0:w]:\n",
    "            tmp = tmp + Input[0, i - w / 2 + m, j - w / 2 + n, d] * kernel[m, n, d, od]\n",
    "        Output[0,i,j,od] = tmp\n",
    "\n",
    "        \n",
    "\n",
    "# # Reduction along input depth\n",
    "# @dace.program(auto_optimize=True, device=dace.DeviceType.GPU)\n",
    "# def convolutionindepthreduce(Input: dtype[inputimages,rows, cols, indepth], \n",
    "#                              kernel: dtype[ w, w, indepth, outdepth], \n",
    "#                              Output: dtype[inputimages, rows, cols, outdepth]):\n",
    "#     for i, j, od in dace.map[w/2:rows-w/2, w/2:cols-w/2, 0:outdepth]:\n",
    "#         tmp = np.zeros([indepth*w*w], dtype = Input.dtype)\n",
    "#         for d,m,n in dace.map[0:indepth,0:w,0:w]:\n",
    "#             with dace.tasklet:\n",
    "#                 in_A << Input[0, i - w / 2 + m, j - w / 2 + n, d]\n",
    "#                 in_B << kernel[m, n, d, od]\n",
    "#                 out >> tmp[(d*(w*w)) + (m*w)+n]\n",
    "\n",
    "#                 out = in_A * in_B\n",
    "#         Output[0,i,j,od] = dace.reduce(lambda a, b: a + b, tmp, identity=0)        "
   ]
  },
  {
   "cell_type": "code",
   "execution_count": 83,
   "id": "32ed55c9",
   "metadata": {},
   "outputs": [],
   "source": [
    "# Prepare data with numpy\n",
    "#Input = np.random.rand(InChannels, Rows, Cols).astype(np_dtype)\n",
    "#kernel = np.random.rand(OutChannels, InChannels, W, W).astype(np_dtype)\n",
    "#Output = np.zeros((OutChannels, Rows, Cols), dtype=np_dtype)\n",
    "InputImages = 1\n",
    "Rows = 9\n",
    "Cols = 9\n",
    "InChannels = 1\n",
    "OutChannels = 2\n",
    "W = 3\n",
    "Stride = 1 # TODO: Code dace convolutions with stride\n",
    "\n",
    "# Prepare data with numpy\n",
    "Input = np.random.rand(InputImages, Rows, Cols, InChannels).astype(np_dtype)\n",
    "kernel = np.random.rand(W, W, InChannels, OutChannels).astype(np_dtype)\n",
    "Output = np.zeros((InputImages, Rows, Cols, OutChannels), dtype=np_dtype)"
   ]
  },
  {
   "cell_type": "code",
   "execution_count": 84,
   "id": "2937b70a",
   "metadata": {},
   "outputs": [
    {
     "name": "stderr",
     "output_type": "stream",
     "text": [
      "/home/akanksha/spcl/dacelocal/venv/lib/python3.8/site-packages/dace/sdfg/sdfg.py:1887: UserWarning: SDFG \"convolutionsimple\" is already loaded by another object, recompiling under a different name.\n",
      "  warnings.warn('SDFG \"%s\" is already loaded by another object, '\n"
     ]
    },
    {
     "name": "stdout",
     "output_type": "stream",
     "text": [
      "Verification successfull\n"
     ]
    }
   ],
   "source": [
    "convolutionsimple(Input, kernel, Output)\n",
    "opdace = tf.convert_to_tensor(Output)\n",
    "opdace = opdace[:,int(W/2):Rows-int(W/2),int(W/2):Cols-int(W/2),:]\n",
    "input = tf.convert_to_tensor(Input)\n",
    "filter = tf.convert_to_tensor(kernel)\n",
    "\n",
    "op = tf.nn.conv2d(input, filter, strides=[1, 1, 1, 1], padding=\"VALID\")\n",
    "\n",
    "if(sum(sum(sum(sum(opdace-op))))==0):\n",
    "    print(\"Verification successfull\")\n",
    "\n",
    "\n",
    "\n",
    "# Place holder function for tf gpu code.\n",
    "def timetfgpu():\n",
    "    op=tf.nn.conv2d(input, filter, strides=[1, 1, 1, 1], padding='VALID')"
   ]
  },
  {
   "cell_type": "code",
   "execution_count": 85,
   "id": "64e670d4",
   "metadata": {},
   "outputs": [
    {
     "name": "stderr",
     "output_type": "stream",
     "text": [
      "/home/akanksha/spcl/dacelocal/venv/lib/python3.8/site-packages/dace/libraries/standard/nodes/reduce.py:458: UserWarning: Multiple axis reductions not supported with this expansion. Falling back to the pure expansion.\n",
      "  warnings.warn('Multiple axis reductions not supported with this expansion. '\n",
      "/home/akanksha/spcl/dacelocal/venv/lib/python3.8/site-packages/dace/sdfg/nodes.py:587: UserWarning: Reduce maps to unused symbol(s): {'indepth', 'cols', 'w', 'rows', 'inputimages', 'outdepth'}\n",
      "  warnings.warn(f\"{self.label} maps to unused symbol(s): {extra_symbols}\")\n",
      "/home/akanksha/spcl/dacelocal/venv/lib/python3.8/site-packages/dace/sdfg/sdfg.py:1887: UserWarning: SDFG \"convolutionallreduce\" is already loaded by another object, recompiling under a different name.\n",
      "  warnings.warn('SDFG \"%s\" is already loaded by another object, '\n"
     ]
    },
    {
     "name": "stdout",
     "output_type": "stream",
     "text": [
      "10.5 s ± 0 ns per loop (mean ± std. dev. of 1 run, 1 loop each)\n",
      "58.8 ms ± 0 ns per loop (mean ± std. dev. of 1 run, 1 loop each)\n",
      "45.6 ms ± 0 ns per loop (mean ± std. dev. of 1 run, 1 loop each)\n"
     ]
    },
    {
     "name": "stderr",
     "output_type": "stream",
     "text": [
      "/home/akanksha/spcl/dacelocal/venv/lib/python3.8/site-packages/dace/sdfg/propagation.py:1353: UserWarning: Subset union failed between 0:inputimages, 0:rows, 0:cols, 0:indepth and 0, i - 0.5*w:i + 0.5*w, j - 0.5*w:j + 0.5*w, 0:indepth \n",
      "  warnings.warn('Subset union failed between %s and %s ' % (old_subset, tmp_subset))\n",
      "/home/akanksha/spcl/dacelocal/venv/lib/python3.8/site-packages/dace/sdfg/propagation.py:1353: UserWarning: Subset union failed between 0, i - 0.5*w:i + 0.5*w, j - 0.5*w:j + 0.5*w, 0:indepth and 0:inputimages, 0:rows, 0:cols, 0:indepth \n",
      "  warnings.warn('Subset union failed between %s and %s ' % (old_subset, tmp_subset))\n",
      "/home/akanksha/spcl/dacelocal/venv/lib/python3.8/site-packages/dace/sdfg/sdfg.py:1887: UserWarning: SDFG \"convolutionsimpleparallel\" is already loaded by another object, recompiling under a different name.\n",
      "  warnings.warn('SDFG \"%s\" is already loaded by another object, '\n"
     ]
    },
    {
     "name": "stdout",
     "output_type": "stream",
     "text": [
      "3.47 s ± 0 ns per loop (mean ± std. dev. of 1 run, 1 loop each)\n",
      "666 µs ± 0 ns per loop (mean ± std. dev. of 1 run, 1 loop each)\n"
     ]
    }
   ],
   "source": [
    "# Warmup\n",
    "%timeit -r 1 -n 1 convolutionallreduce(Input, kernel, Output)\n",
    "%timeit -r 1 -n 1 convolutionsimple(Input, kernel, Output)\n",
    "%timeit -r 1 -n 1 convolutionindepthreduce(Input, kernel, Output)\n",
    "%timeit -r 1 -n 1 convolutionsimpleparallel(Input, kernel, Output)\n",
    "%timeit -r 1 -n 1 timetfgpu()"
   ]
  },
  {
   "cell_type": "code",
   "execution_count": 86,
   "id": "909fc651",
   "metadata": {},
   "outputs": [
    {
     "name": "stdout",
     "output_type": "stream",
     "text": [
      "804 µs ± 0 ns per loop (mean ± std. dev. of 1 run, 1 loop each)\n"
     ]
    }
   ],
   "source": [
    "%%timeit -r 1 -n 1\n",
    "    op=tf.nn.conv2d(input, filter, strides=[1, 1, 1, 1], padding='VALID')"
   ]
  },
  {
   "cell_type": "code",
   "execution_count": 87,
   "id": "69eb8915",
   "metadata": {},
   "outputs": [
    {
     "name": "stdout",
     "output_type": "stream",
     "text": [
      "45.7 ms ± 524 µs per loop (mean ± std. dev. of 7 runs, 10 loops each)\n",
      "45.4 ms ± 792 µs per loop (mean ± std. dev. of 7 runs, 10 loops each)\n",
      "44.9 ms ± 548 µs per loop (mean ± std. dev. of 7 runs, 10 loops each)\n",
      "149 µs ± 364 ns per loop (mean ± std. dev. of 7 runs, 10,000 loops each)\n"
     ]
    }
   ],
   "source": [
    "TIMES = {}\n",
    "TIMES['dace_simple'] = %timeit -o convolutionsimple(Input, kernel, Output)\n",
    "TIMES['dace_allreduce'] = %timeit -o convolutionallparallel(Input, kernel, Output)\n",
    "TIMES['dace_simpleparallel'] = %timeit -o convolutionsimpleparallel(Input, kernel, Output)\n",
    "TIMES['tfgpu'] = %timeit -o timetfgpu()"
   ]
  },
  {
   "cell_type": "code",
   "execution_count": 88,
   "id": "6b2dfe71",
   "metadata": {},
   "outputs": [
    {
     "name": "stdout",
     "output_type": "stream",
     "text": [
      "[0.0007922448326744664, 0.0005237049326466924, 0.0005481221850110665, 3.6353583029828773e-07]\n",
      "[ -7.14064008  -7.55458214  -7.50901233 -14.82738797]\n"
     ]
    },
    {
     "data": {
      "image/png": "[encoded data removed]",
      "text/plain": [
       "<Figure size 432x288 with 1 Axes>"
      ]
     },
     "metadata": {
      "needs_background": "light"
     },
     "output_type": "display_data"
    }
   ],
   "source": [
    "barplot('Baselines')"
   ]
  }
 ],
 "metadata": {
  "kernelspec": {
   "display_name": "venv",
   "language": "python",
   "name": "venv"
  },
  "language_info": {
   "codemirror_mode": {
    "name": "ipython",
    "version": 3
   },
   "file_extension": ".py",
   "mimetype": "text/x-python",
   "name": "python",
   "nbconvert_exporter": "python",
   "pygments_lexer": "ipython3",
   "version": "3.8.10"
  }
 },
 "nbformat": 4,
 "nbformat_minor": 5
}
